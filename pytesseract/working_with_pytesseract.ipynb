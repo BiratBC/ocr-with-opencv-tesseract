{
 "cells": [
  {
   "cell_type": "code",
   "execution_count": 1,
   "id": "8d120be8",
   "metadata": {},
   "outputs": [],
   "source": [
    "import pytesseract\n",
    "from PIL import Image"
   ]
  },
  {
   "cell_type": "code",
   "execution_count": 2,
   "id": "92d08be1",
   "metadata": {},
   "outputs": [],
   "source": [
    "img_file = \"data/test1.png\""
   ]
  },
  {
   "cell_type": "code",
   "execution_count": 3,
   "id": "e110fe03",
   "metadata": {},
   "outputs": [],
   "source": [
    "# Displaying different images with actual size in matplotlib subplot\n",
    "import matplotlib.pyplot as plt\n",
    "import matplotlib.image as mpimg\n",
    "\n",
    "def display_image(im_path):\n",
    "    dpi = 80\n",
    "    im_data = mpimg.imread(im_path)\n",
    "\n",
    "    if im_data.ndim == 2:\n",
    "        height, width = im_data.shape\n",
    "    else:\n",
    "        height, width, _ = im_data.shape\n",
    "\n",
    "    figsize = width / float(dpi), height / float(dpi)\n",
    "    fig = plt.figure(figsize=figsize)\n",
    "    ax = fig.add_axes([0, 0, 1, 1])\n",
    "    ax.axis('off')\n",
    "    ax.imshow(im_data, cmap='gray' if im_data.ndim == 2 else None)\n",
    "    plt.show()"
   ]
  },
  {
   "cell_type": "code",
   "execution_count": 4,
   "id": "36ea8e50",
   "metadata": {},
   "outputs": [],
   "source": [
    "no_noise = \"temp/noise.png\""
   ]
  },
  {
   "cell_type": "code",
   "execution_count": 5,
   "id": "719b403c",
   "metadata": {},
   "outputs": [],
   "source": [
    "img = Image.open(img_file)"
   ]
  },
  {
   "cell_type": "code",
   "execution_count": 6,
   "id": "bfce1c3d",
   "metadata": {},
   "outputs": [],
   "source": [
    "ocr_result = pytesseract.image_to_string(img)"
   ]
  },
  {
   "cell_type": "code",
   "execution_count": 7,
   "id": "ef310ab1",
   "metadata": {},
   "outputs": [
    {
     "name": "stdout",
     "output_type": "stream",
     "text": [
      "Chapter 1 Introduction\n",
      "\n",
      "1.1 Background\n",
      "\n",
      "‘The COVID-19 pandemic has changed many aspects of our lives, including how we\n",
      "conduct education and assessments. With schools and universities closed and social\n",
      "distancing measures in place, the need for effective online examination tools has\n",
      "become more critical than ever. To address this challenge, we have developed\n",
      "ExamSphere, an application specifically designed to conduct online examinations\n",
      "\n",
      "using multiple-choice questions (MCQs).\n",
      "\n",
      "ExamSphere provides a straightforward and secure way for teachers and institutions to\n",
      "create, administer, and grade exams remotely. This platform ensures that students can\n",
      "continue their education uninterrupted, even when they can't be physically present in a\n",
      "classroom. Our goal is to make online examinations easy, efficient, and fair for\n",
      "\n",
      "everyone involved.\n",
      "\n",
      "ExamSphere is equipped with user-friendly features for both educators and students.\n",
      "Teachers can create question banks, quickly set up exams, and randomize question set\n",
      "to save time. For students, the application offers a simple and clear interface, making\n",
      "\n",
      "it easy to focus on answering questions without any technical difficulties\n",
      "\n",
      "As we navigate through the changes brought by the pandemic, ExamSphere aims to\n",
      "support the educational community by providing a reliable solution for online\n",
      "assessments. By embracing digital tools like ExamSphere, we can ensure that learning\n",
      "\n",
      "continues smoothly and efficiently, no matter the circumstances.\n",
      "\f\n"
     ]
    }
   ],
   "source": [
    "print(ocr_result)"
   ]
  },
  {
   "cell_type": "code",
   "execution_count": 8,
   "id": "f1a2512d",
   "metadata": {},
   "outputs": [
    {
     "name": "stdout",
     "output_type": "stream",
     "text": [
      "c\n",
      "\n",
      "11 Background\n",
      "\n",
      "hapter 1 Introduction\n",
      "\n",
      " \n",
      "\f\n"
     ]
    }
   ],
   "source": [
    "img = Image.open(no_noise)\n",
    "ocr_result = pytesseract.image_to_string(img)\n",
    "print(ocr_result)"
   ]
  },
  {
   "cell_type": "code",
   "execution_count": 11,
   "id": "9b18c2fa",
   "metadata": {},
   "outputs": [],
   "source": [
    "image_file = \"data/index-2.JPG\"\n",
    "img = Image.open(image_file)\n",
    "ocr_result = pytesseract.image_to_string(img)"
   ]
  },
  {
   "cell_type": "code",
   "execution_count": null,
   "id": "ce42e3ac",
   "metadata": {},
   "outputs": [],
   "source": []
  }
 ],
 "metadata": {
  "kernelspec": {
   "display_name": "Python 3",
   "language": "python",
   "name": "python3"
  },
  "language_info": {
   "codemirror_mode": {
    "name": "ipython",
    "version": 3
   },
   "file_extension": ".py",
   "mimetype": "text/x-python",
   "name": "python",
   "nbconvert_exporter": "python",
   "pygments_lexer": "ipython3",
   "version": "3.12.6"
  }
 },
 "nbformat": 4,
 "nbformat_minor": 5
}
